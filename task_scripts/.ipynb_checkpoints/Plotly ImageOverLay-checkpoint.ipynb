{
 "cells": [
  {
   "cell_type": "code",
   "execution_count": null,
   "metadata": {},
   "outputs": [],
   "source": [
    "import geopandas as gpd\n",
    "import pandas as pd\n",
    "import numpy as np\n",
    "import matplotlib.pyplot as plt\n",
    "from scipy.interpolate import griddata\n",
    "from matplotlib import cm\n",
    "\n",
    "import datashader as ds\n",
    "import plotly.express as px\n",
    "\n",
    "from PIL import Image, ImageOps"
   ]
  },
  {
   "cell_type": "code",
   "execution_count": null,
   "metadata": {},
   "outputs": [],
   "source": [
    "### functions to calculate the data point to raster images\n",
    "\n",
    "def get_max_res(bounds):\n",
    "    return max((bounds[1] - bounds[0]) / 1000, 0.001)\n",
    "\n",
    "def get_space_coords(x_bounds, y_bounds):\n",
    "    xres_max = get_max_res(x_bounds)\n",
    "    yres_max = get_max_res(y_bounds)\n",
    "    return np.arange(y_bounds[0], y_bounds[1], yres_max), np.arange(x_bounds[0], x_bounds[1], xres_max)\n",
    "\n",
    "def interpolate_2d(geometry, feature, x_bounds=None, y_bounds=None):\n",
    "    if not x_bounds or not y_bounds:\n",
    "        raise Exception(\"Must provide x_bounds and y_bounds\")\n",
    "    \n",
    "    gy, gx = np.meshgrid(*get_space_coords(x_bounds, y_bounds) )\n",
    "    return griddata(geometry, feature/(feature.max()-feature.min()) , (gx, gy), method=\"cubic\")"
   ]
  },
  {
   "cell_type": "code",
   "execution_count": null,
   "metadata": {
    "scrolled": false
   },
   "outputs": [],
   "source": [
    "### 1. Load data\n",
    "\n",
    "x_bounds=(-124.40117, -114.00217)\n",
    "y_bounds=(32.28567, 42.11017)\n",
    "\n",
    "# x_bounds=(-123, -121)\n",
    "# y_bounds=(37, 39)\n",
    "\n",
    "gdf = gpd.read_file(\"../data/geojson/calif_nev_ncei_grav.geojson\")\n",
    "\n",
    "# gdf_subset = gdf[(gdf[\"latitude\"] > y_bounds[0]) &\n",
    "#                  (gdf[\"latitude\"] < y_bounds[1]) &\n",
    "#                  (gdf[\"longitude\"] > x_bounds[0]) &\n",
    "#                  (gdf[\"longitude\"] < x_bounds[1])]\n",
    "# coord_list = list(zip(gdf_subset.geometry.x, gdf_subset.geometry.y))\n",
    "\n",
    "# grid_1 = interpolate_2d(coord_list, gdf_subset[\"isostatic_anom\"].values,\n",
    "#                         x_bounds=x_bounds, y_bounds=y_bounds)\n",
    "\n",
    "coord_list = list(zip(gdf.geometry.x, gdf.geometry.y))\n",
    "\n",
    "grid_1 = interpolate_2d(coord_list, gdf[\"isostatic_anom\"].values,\n",
    "                        x_bounds=x_bounds, y_bounds=y_bounds)\n",
    "\n",
    "### 2. Load data for raster image\n",
    "df2 = pd.read_csv('../data/geojson/calif_nev_ncei_grav.csv')\n",
    "\n",
    "cvs2 = ds.Canvas(plot_width=3000, plot_height=3000)\n",
    "agg2 = cvs2.points(df2, x='longitude', y='latitude')\n",
    "\n",
    "coords_lat2, coords_lon2 = agg2.coords['latitude'].values, agg2.coords['longitude'].values\n",
    "coordinates2 = [[coords_lon2[0], coords_lat2[0]],\n",
    "               [coords_lon2[-1], coords_lat2[0]],\n",
    "               [coords_lon2[-1], coords_lat2[-1]],\n",
    "               [coords_lon2[0], coords_lat2[-1]]]\n",
    "## convert to colormap image\n",
    "im = Image.fromarray(np.uint8(cm.Spectral_r(grid_1.T[::-1])*255))\n",
    "\n",
    "im_flipped = ImageOps.flip(im)"
   ]
  },
  {
   "cell_type": "code",
   "execution_count": null,
   "metadata": {},
   "outputs": [],
   "source": [
    "im_flipped"
   ]
  },
  {
   "cell_type": "code",
   "execution_count": null,
   "metadata": {},
   "outputs": [],
   "source": [
    "### 3. Draw map\n",
    "fig = px.scatter_mapbox(df2[:1], lat='latitude', lon='longitude', zoom=4, opacity=1)\n",
    "fig.update_layout(mapbox_style=\"carto-darkmatter\",\n",
    "                 mapbox_layers = [\n",
    "                {\n",
    "                    \"sourcetype\": \"image\",\n",
    "                    \"source\": im_flipped,\n",
    "                    \"coordinates\": coordinates2,\n",
    "                    'opacity': 0.3\n",
    "                },\n",
    "                {\n",
    "                    \"sourcetype\": \"vector\",\n",
    "                    \"sourcelayer\": \"County\",\n",
    "                    \"type\": \"line\",\n",
    "                    \"opacity\": 0.1,\n",
    "                    \"color\": \"white\",\n",
    "                    \"source\": [\n",
    "                        \"https://gis-server.data.census.gov/arcgis/rest/services/Hosted/VT_2019_050_00_PY_D1/VectorTileServer/tile/{z}/{y}/{x}.pbf\"\n",
    "                    ]\n",
    "                }]\n",
    ")\n",
    "fig.update_layout(margin={\"r\":0,\"t\":0,\"l\":0,\"b\":0})\n",
    "fig.show()"
   ]
  },
  {
   "cell_type": "code",
   "execution_count": null,
   "metadata": {},
   "outputs": [],
   "source": []
  }
 ],
 "metadata": {
  "kernelspec": {
   "display_name": "Python 3",
   "language": "python",
   "name": "python3"
  },
  "language_info": {
   "codemirror_mode": {
    "name": "ipython",
    "version": 3
   },
   "file_extension": ".py",
   "mimetype": "text/x-python",
   "name": "python",
   "nbconvert_exporter": "python",
   "pygments_lexer": "ipython3",
   "version": "3.8.5"
  }
 },
 "nbformat": 4,
 "nbformat_minor": 4
}
