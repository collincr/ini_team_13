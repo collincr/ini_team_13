{
 "cells": [
  {
   "cell_type": "code",
   "execution_count": null,
   "metadata": {},
   "outputs": [],
   "source": [
    "import geopandas as gpd\n",
    "import pandas as pd\n",
    "import folium\n",
    "import numpy as np\n",
    "import matplotlib.pyplot as plt\n",
    "from scipy.interpolate import griddata\n",
    "from matplotlib import cm\n",
    "\n",
    "from folium.plugins import MarkerCluster\n",
    "from folium.plugins import HeatMap"
   ]
  },
  {
   "cell_type": "code",
   "execution_count": null,
   "metadata": {},
   "outputs": [],
   "source": [
    "### BASE MAP SETUP AND GRAVITY DATA\n",
    "\n",
    "# Setup boundary to focus on the Bay Area\n",
    "x_bounds=(-123, -121)\n",
    "y_bounds=(37, 39)\n",
    "\n",
    "gdf = gpd.read_file(\"../data/geojson/calif_nev_ncei_grav.geojson\")\n",
    "\n",
    "# Filter areas outside the Bay Area\n",
    "gdf_subset = gdf[(gdf[\"latitude\"] > y_bounds[0]) &\n",
    "                 (gdf[\"latitude\"] < y_bounds[1]) &\n",
    "                 (gdf[\"longitude\"] > x_bounds[0]) &\n",
    "                 (gdf[\"longitude\"] < x_bounds[1])]\n",
    "\n",
    "# Tiles can be changed for different layouts, e.g. 'openstreetmap'\n",
    "m = folium.Map(tiles='CartoDB dark_matter', zoom_start=10, location=[37.8, -122.4])\n",
    "\n",
    "coord_list = list(zip(gdf_subset.geometry.x, gdf_subset.geometry.y))"
   ]
  },
  {
   "cell_type": "code",
   "execution_count": null,
   "metadata": {},
   "outputs": [],
   "source": [
    "### HEATMAP\n",
    "\n",
    "# Swap columns for heatmap input\n",
    "data = [(loc[1], loc[0]) for loc in coord_list]\n",
    "\n",
    "# Add as neww layer called 'Heat Map'\n",
    "HeatMap(data).add_to(folium.FeatureGroup(name='Heat Map').add_to(m))"
   ]
  },
  {
   "cell_type": "code",
   "execution_count": null,
   "metadata": {
    "scrolled": true
   },
   "outputs": [],
   "source": [
    "### MARKERCLUSTER\n",
    "\n",
    "# Create new cluster object and create new layer \n",
    "marker_cluster = MarkerCluster().add_to(folium.FeatureGroup(name='Marker Cluster').add_to(m))\n",
    "\n",
    "# Place coordinates into the object\n",
    "for loc in coord_list:\n",
    "    folium.Marker(location=[loc[1], loc[0]]).add_to(marker_cluster)"
   ]
  },
  {
   "cell_type": "code",
   "execution_count": null,
   "metadata": {},
   "outputs": [],
   "source": [
    "### SIMPLE CIRCLE MARKER\n",
    "\n",
    "# Create new layer object for circle marker\n",
    "cmLayer = folium.FeatureGroup(name='Circle Marker')\n",
    "\n",
    "# To plot data points into the layer object\n",
    "def plotDot(point):\n",
    "    folium.CircleMarker(location=[point.geometry.y, point.geometry.x],\n",
    "                        radius=5,\n",
    "                        weight=0,\n",
    "                        popup = point.isostatic_anom, # Mouse click popup, can be HTML or String\n",
    "                        fill_color='#FF0000').add_to(cmLayer)\n",
    "\n",
    "# Filter out two columns\n",
    "threecol = pd.DataFrame(gdf_subset, columns=['geometry', 'isostatic_anom'])\n",
    "# ... and use apply() to insert each point\n",
    "threecol.apply(plotDot, axis = 1)\n",
    "\n",
    "cmLayer.add_to(m)"
   ]
  },
  {
   "cell_type": "code",
   "execution_count": null,
   "metadata": {},
   "outputs": [],
   "source": [
    "# CA COUNTY BORDER\n",
    "\n",
    "# Please visit http://data.ca.gov to retrieve open datasets for boundaries\n",
    "# Download CA Country Boundary datasets at https://data.ca.gov/dataset/e212e397-1277-4df3-8c22-40721b095f33/resource/b0007416-a325-4777-9295-368ea6b710e6/download/ca-county-boundaries.zip\n",
    "\n",
    "choro = folium.FeatureGroup(name='CA Borders')\n",
    "\n",
    "# Use Chlororpleth\n",
    "folium.Choropleth(\n",
    "    geo_data='ca_border.geojson',\n",
    "#     name='choropleth',\n",
    "#     data=state_data,\n",
    "#     columns=['State', 'Unemployment'],\n",
    "#     key_on='feature.id',\n",
    "#     fill_color='YlGn',\n",
    "    line_color='white',\n",
    "    fill_opacity=0\n",
    "#     line_opacity=0.2,\n",
    "#     legend_name='Unemployment Rate (%)'\n",
    ").add_to(choro)\n",
    "\n",
    "choro.add_to(m)"
   ]
  },
  {
   "cell_type": "code",
   "execution_count": null,
   "metadata": {},
   "outputs": [],
   "source": [
    "\n",
    "# Attach all layers created to the map\n",
    "folium.LayerControl().add_to(m)\n",
    "\n",
    "# Draw map\n",
    "m"
   ]
  },
  {
   "cell_type": "code",
   "execution_count": null,
   "metadata": {},
   "outputs": [],
   "source": [
    "# Utility - Convert *.shp file to .geojson file with GeoPandas\n",
    "\n",
    "## Load shp data file\n",
    "# region = gpd.read_file('CA_OPEN/CA_Counties/CA_Counties_TIGER2016.shp')\n",
    "## Convert resolution to match the base of gravity data we use as sample\n",
    "# region['geometry'] = region['geometry'].to_crs(epsg=4326)\n",
    "## Save as .geojson file using GeoJSON engine to convert\n",
    "# region.to_file(\"ca_border.geojson\", driver=\"GeoJSON\")"
   ]
  }
 ],
 "metadata": {
  "kernelspec": {
   "display_name": "Python 3",
   "language": "python",
   "name": "python3"
  },
  "language_info": {
   "codemirror_mode": {
    "name": "ipython",
    "version": 3
   },
   "file_extension": ".py",
   "mimetype": "text/x-python",
   "name": "python",
   "nbconvert_exporter": "python",
   "pygments_lexer": "ipython3",
   "version": "3.6.9"
  }
 },
 "nbformat": 4,
 "nbformat_minor": 4
}
